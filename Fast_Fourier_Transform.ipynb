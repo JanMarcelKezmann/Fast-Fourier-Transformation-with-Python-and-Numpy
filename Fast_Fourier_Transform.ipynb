{
  "nbformat": 4,
  "nbformat_minor": 0,
  "metadata": {
    "colab": {
      "name": "Numpy Fast Fourier Transform",
      "provenance": [],
      "collapsed_sections": [],
      "include_colab_link": true
    },
    "kernelspec": {
      "name": "python3",
      "display_name": "Python 3"
    }
  },
  "cells": [
    {
      "cell_type": "markdown",
      "metadata": {
        "id": "view-in-github",
        "colab_type": "text"
      },
      "source": [
        "<a href=\"https://colab.research.google.com/github/JanMarcelKezmann/Fast-Fourier-Transformation-with-Python-and-Numpy/blob/master/Fast_Fourier_Transform.ipynb\" target=\"_parent\"><img src=\"https://colab.research.google.com/assets/colab-badge.svg\" alt=\"Open In Colab\"/></a>"
      ]
    },
    {
      "cell_type": "markdown",
      "metadata": {
        "id": "8wSPBQiU_74h",
        "colab_type": "text"
      },
      "source": [
        "# Numpy Fast Fourier Transformation Implentation\n",
        "\n",
        "<p>In this short tutorial I am going to implement a Fast Fourier Transformation by using the Library <strong>Numpy</strong>.</p>\n",
        "<p>It is going to start of with a implementation of the FFT as well as the iFFT (inverse FFT) for arrays and will continue with the implementation of the FFT (and iFFT) for matrices.</p>\n"
      ]
    },
    {
      "cell_type": "markdown",
      "metadata": {
        "id": "hVcC_R73_R73",
        "colab_type": "text"
      },
      "source": [
        "## Load the Libraries"
      ]
    },
    {
      "cell_type": "code",
      "metadata": {
        "id": "BedYIkf_-gZd",
        "colab_type": "code",
        "colab": {}
      },
      "source": [
        "import numpy as np\n",
        "import matplotlib.pyplot as plt\n",
        "%matplotlib inline\n",
        "\n",
        "from keras.datasets import mnist"
      ],
      "execution_count": 0,
      "outputs": []
    },
    {
      "cell_type": "markdown",
      "metadata": {
        "id": "-DxyjqcJ_V1f",
        "colab_type": "text"
      },
      "source": [
        "### Load the Data\n",
        "\n",
        "<p>For this code example the mnist dataset for Machine Learning will be used to calculate the FFT2D as well as the iFFT2D of a single digit.</p>"
      ]
    },
    {
      "cell_type": "code",
      "metadata": {
        "id": "akIynqVj-35A",
        "colab_type": "code",
        "colab": {}
      },
      "source": [
        "(X_train, _), (_, _) = mnist.load_data()"
      ],
      "execution_count": 0,
      "outputs": []
    },
    {
      "cell_type": "markdown",
      "metadata": {
        "id": "zE5AAPVuAXnd",
        "colab_type": "text"
      },
      "source": [
        "<p>Initialize function for image showing</p>"
      ]
    },
    {
      "cell_type": "code",
      "metadata": {
        "id": "tsJlwxBX_Iv6",
        "colab_type": "code",
        "colab": {}
      },
      "source": [
        "def show_img(img, size=28):\n",
        "    img = img.reshape(size, size)\n",
        "    plt.imshow(img, cmap=\"gray\")\n",
        "    plt.show()"
      ],
      "execution_count": 0,
      "outputs": []
    },
    {
      "cell_type": "markdown",
      "metadata": {
        "id": "_YJEnrFgB-Fc",
        "colab_type": "text"
      },
      "source": [
        "<p>Let's start by defining an random array and by transforming it via the np.fft.fft function of the Numpy library. The FFT which we get from numpy serves as a comparison for the later on self-calculated FFT.</p>"
      ]
    },
    {
      "cell_type": "code",
      "metadata": {
        "id": "7Y8-k09sBxoA",
        "colab_type": "code",
        "outputId": "fbffcf63-ac9c-4b19-ab14-5e6a3f0bb44c",
        "colab": {
          "base_uri": "https://localhost:8080/",
          "height": 85
        }
      },
      "source": [
        "# define a random array to transform over\n",
        "array = np.array([1, 2, 3, 4, 5, 6, 7, 8, 9, 10, 11, 12, 13, 14, 15, 16])\n",
        "\n",
        "np_fft_array = np.fft.fft(array)\n",
        "print(np_fft_array)"
      ],
      "execution_count": 90,
      "outputs": [
        {
          "output_type": "stream",
          "text": [
            "[136. +0.j          -8.+40.21871594j  -8.+19.3137085j   -8.+11.9728461j\n",
            "  -8. +8.j          -8. +5.3454291j   -8. +3.3137085j   -8. +1.59129894j\n",
            "  -8. +0.j          -8. -1.59129894j  -8. -3.3137085j   -8. -5.3454291j\n",
            "  -8. -8.j          -8.-11.9728461j   -8.-19.3137085j   -8.-40.21871594j]\n"
          ],
          "name": "stdout"
        }
      ]
    },
    {
      "cell_type": "markdown",
      "metadata": {
        "id": "FUcfuu8ICtY6",
        "colab_type": "text"
      },
      "source": [
        "<p>Now it is time to implent the FFT by hand.</p>"
      ]
    },
    {
      "cell_type": "markdown",
      "metadata": {
        "id": "eyar8Gx1Cz-Y",
        "colab_type": "text"
      },
      "source": [
        "## FFT\n",
        "### The Cooley-Tukey Algorithm"
      ]
    },
    {
      "cell_type": "markdown",
      "metadata": {
        "id": "qVMDrDHoGBRa",
        "colab_type": "text"
      },
      "source": [
        "<p>To implement the FFT the Cooley-Tukey algorithm will be used. Next to this only some minor changes are made which does not effect the algorithms performance, it only saves memory.</p>"
      ]
    },
    {
      "cell_type": "code",
      "metadata": {
        "id": "fG8_e-Nh_xjh",
        "colab_type": "code",
        "colab": {}
      },
      "source": [
        "# define a function that bit reverse the input\n",
        "# per definition of the cooley-tukey algorithm this is necessary to get the\n",
        "# calculations in the fft into the correct order\n",
        "def bitrevorder(x):\n",
        "    len_max_bin = int(np.log2(len(x)))\n",
        "    if len_max_bin < 10:\n",
        "        helper = \"{0:0\" + str(len_max_bin) + \"b}\"\n",
        "    else:\n",
        "        helper = \"{0:\" + str(len_max_bin) + \"b}\"\n",
        "    # binarize array\n",
        "    str_x_bin = [helper.format(i) for i in range(len(x))]\n",
        "    # reverse each string in array\n",
        "    rev_str_x_bin = [i[::-1] for i in str_x_bin]\n",
        "    # get reversed indices of array\n",
        "    x_bro_ind = [int(i, 2) for i in rev_str_x_bin]\n",
        "    # get reversed numbers of array\n",
        "    x_bro = [x[i] for i in x_bro_ind]\n",
        "    return x_bro\n",
        "\n",
        "# FFT implentation\n",
        "\n",
        "############################################################################################\n",
        "    # Input:\n",
        "    #     a:              Input array which will be transformed\n",
        "    #     print_info:     Boolean. If set to True all calculation steps will be printed out\n",
        "    #     out_round_acc:  Integer. Define rounding accuracy\n",
        "    # Output:\n",
        "    #     rev_a:          FFT of the input array, same dimension as input array\n",
        "############################################################################################\n",
        "\n",
        "def fft(a, print_info=False, out_round_acc=6):\n",
        "    # bitreverse the input array to bring calculations in the for loops into the correct order\n",
        "    rev_a = bitrevorder(a)\n",
        "\n",
        "    n = int(np.log2(len(a)))\n",
        "\n",
        "    # Calculate the number of steps taken to compare it to the wanted running time of O(N * log(N))\n",
        "    # with N = len(a)\n",
        "    number_of_operations = 0\n",
        "    \n",
        "    for m  in range(1, n + 1):\n",
        "        if print_info:\n",
        "            print(\"m : \" + str(m))\n",
        "        for j in range(0, 2**(m - 1)):\n",
        "            e = round(np.exp(-2 * np.pi * complex(0, 1) * j / (2**m)), 8)\n",
        "            if print_info:\n",
        "                print(\"j : \" + str(j))\n",
        "            for r in range(0, (2**n), (2**m)):\n",
        "                v = rev_a[r + j + 2**(m - 1)] * e\n",
        "\n",
        "                rev_a[r + j + 2**(m - 1)] = rev_a[r + j] - v\n",
        "                rev_a[r + j] = rev_a[r + j] + v\n",
        "\n",
        "                if print_info:\n",
        "                    print(\"r : \" + str(r))\n",
        "                    print(\"Calculation of: beta[\" + str(r + j) + \"]\")\n",
        "                    print(\"BCalculation of: beta[\" + str(r + j + 2**(m - 1)) + \"]\")\n",
        "\n",
        "                # adapt the number of calculations\n",
        "                number_of_operations += 2\n",
        "\n",
        "    print(\"\\nN = \" + str(len(a)) + \" and Number of operations: (N * log_2(N)) = \" + str(number_of_operations) + \"\\n\")        \n",
        "    rev_a = [round(i, out_round_acc) for i in rev_a]\n",
        "    return rev_a"
      ],
      "execution_count": 0,
      "outputs": []
    },
    {
      "cell_type": "code",
      "metadata": {
        "id": "NXMJEsfbEty1",
        "colab_type": "code",
        "outputId": "06fe2750-afa1-443a-e05b-5b0f566db5c2",
        "colab": {
          "base_uri": "https://localhost:8080/",
          "height": 68
        }
      },
      "source": [
        "fft_array = fft(array, print_info=False)"
      ],
      "execution_count": 92,
      "outputs": [
        {
          "output_type": "stream",
          "text": [
            "\n",
            "N = 16 and Number of operations: (N * log_2(N)) = 64\n",
            "\n"
          ],
          "name": "stdout"
        }
      ]
    },
    {
      "cell_type": "markdown",
      "metadata": {
        "id": "PU0ygbnwFzOk",
        "colab_type": "text"
      },
      "source": [
        "<p>Now we can test if the self implemented version of the cooley-tukey algorithm is getting us the same result as the correct numpy comparison.</p>"
      ]
    },
    {
      "cell_type": "code",
      "metadata": {
        "id": "dZLh0e70E0DC",
        "colab_type": "code",
        "outputId": "2ce837f8-efe8-41f8-aaa0-98af497aeb01",
        "colab": {
          "base_uri": "https://localhost:8080/",
          "height": 51
        }
      },
      "source": [
        "# check if implementation is close to the numpy solution\n",
        "print(np.isclose(np_fft_array, fft_array, rtol=1e-05, atol=1e-08))"
      ],
      "execution_count": 93,
      "outputs": [
        {
          "output_type": "stream",
          "text": [
            "[ True  True  True  True  True  True  True  True  True  True  True  True\n",
            "  True  True  True  True]\n"
          ],
          "name": "stdout"
        }
      ]
    },
    {
      "cell_type": "markdown",
      "metadata": {
        "id": "7-GvUyDcHIZ1",
        "colab_type": "text"
      },
      "source": [
        "<p>So, we know now that the algorithm is working fine.</p>\n",
        "<p>This means we can implement the inverse FFT now, which is if you ones have the FFT very trivial. It is only necessary to change the variable <strong>e</strong> and to remember that the result will contain only an array of real numbers and not complext ones.</p>"
      ]
    },
    {
      "cell_type": "code",
      "metadata": {
        "id": "sXzXj0FRFBAA",
        "colab_type": "code",
        "colab": {}
      },
      "source": [
        "# inverse FFT\n",
        "############################################################################################\n",
        "    # Input:\n",
        "    #     a:              Input array which will be retransformed\n",
        "    #     print_info:     Boolean. If set to True all calculation steps will be printed out\n",
        "    #     out_round_acc:  Integer. Define rounding accuracy\n",
        "    # Output:\n",
        "    #     rev_a:          iFFT of the input array, same dimension as input array\n",
        "############################################################################################\n",
        "\n",
        "def ifft(a, print_info=False, out_round_acc=6):\n",
        "    # bitreverse the input array to bring calculations in the for loops into the correct order\n",
        "    rev_a = bitrevorder(a)\n",
        "\n",
        "    n = int(np.log2(len(a)))\n",
        "\n",
        "    # Calculate the number of steps taken to compare it to the wanted running time of O(N * log(N))\n",
        "    # with N = len(a)\n",
        "    number_of_operations = 0\n",
        "    \n",
        "    for m  in range(1, n + 1):\n",
        "        if print_info:\n",
        "            print(\"m : \" + str(m))\n",
        "        for j in range(0, 2**(m - 1)):\n",
        "            e = round(np.exp(2 * np.pi * complex(0, 1) * j / (2**m)), 8)\n",
        "            if print_info:\n",
        "                print(\"j : \" + str(j))\n",
        "            for r in range(0, (2**n), (2**m)):\n",
        "                v = rev_a[r + j + 2**(m - 1)] * e\n",
        "\n",
        "                rev_a[r + j + 2**(m - 1)] = rev_a[r + j] - v\n",
        "                rev_a[r + j] = rev_a[r + j] + v\n",
        "\n",
        "                if print_info:\n",
        "                    print(\"r : \" + str(r))\n",
        "                    print(\"Calculation of: beta[\" + str(r + j) + \"]\")\n",
        "                    print(\"Calculation of: beta[\" + str(r + j + 2**(m - 1)) + \"]\")\n",
        "\n",
        "                # adapt the number of calculations\n",
        "                number_of_operations += 2\n",
        "\n",
        "    print(\"\\nN = \" + str(len(a)) + \" and Number of operations: (N * log_2(N)) = \" + str(number_of_operations) + \"\\n\")        \n",
        "    # transform complex array to real array\n",
        "    rev_a = np.round(np.asarray([round(i.real, out_round_acc) for i in rev_a]) / len(a), out_round_acc)\n",
        "\n",
        "    return rev_a"
      ],
      "execution_count": 0,
      "outputs": []
    },
    {
      "cell_type": "code",
      "metadata": {
        "id": "9a8jCOHtFDQ9",
        "colab_type": "code",
        "outputId": "0dffe0ba-7267-4700-fae7-e886c72bd449",
        "colab": {
          "base_uri": "https://localhost:8080/",
          "height": 85
        }
      },
      "source": [
        "ifft_array = ifft(fft_array, print_info=False)\n",
        "print(ifft_array)"
      ],
      "execution_count": 95,
      "outputs": [
        {
          "output_type": "stream",
          "text": [
            "\n",
            "N = 16 and Number of operations: (N * log_2(N)) = 64\n",
            "\n",
            "[ 1.  2.  3.  4.  5.  6.  7.  8.  9. 10. 11. 12. 13. 14. 15. 16.]\n"
          ],
          "name": "stdout"
        }
      ]
    },
    {
      "cell_type": "markdown",
      "metadata": {
        "id": "HiYXf-sFIlxP",
        "colab_type": "text"
      },
      "source": [
        "<p>Since the array is the same as the original input into the FFT function, we know that the inverse FFT is working properly.</p>"
      ]
    },
    {
      "cell_type": "markdown",
      "metadata": {
        "id": "t82HlWPAI2xY",
        "colab_type": "text"
      },
      "source": [
        "# FFT2D"
      ]
    },
    {
      "cell_type": "markdown",
      "metadata": {
        "id": "rmVcI14kK6F3",
        "colab_type": "text"
      },
      "source": [
        "<p>Again first of all define a random matrix and perform the np.fft.fft2() numpy FFT2D on it and save it for later comparison.</p>"
      ]
    },
    {
      "cell_type": "code",
      "metadata": {
        "id": "y0E3nfceKt-F",
        "colab_type": "code",
        "outputId": "a2d0ae6c-b4f5-4fb4-8ba1-9e9850a10e91",
        "colab": {
          "base_uri": "https://localhost:8080/",
          "height": 425
        }
      },
      "source": [
        "matrix = np.array([[1, 2, 3, 4, 5, 6, 7, 8],\n",
        "                   [9, 10, 11, 12, 13, 14, 15, 16],\n",
        "                   [17, 18, 19, 20, 21, 22, 23, 24],\n",
        "                   [25, 26, 27, 28, 29, 30, 31, 32],\n",
        "                   [33, 34, 35, 36, 37, 38, 39, 40],\n",
        "                   [41, 42, 43, 44, 45, 46, 47, 48],\n",
        "                   [49, 50, 51, 52, 53, 54, 55, 56],\n",
        "                   [57, 58, 59, 60, 61, 62, 63, 64]])\n",
        "\n",
        "np_fft2d_matrix = np.fft.fft2(matrix)\n",
        "print(np_fft2d_matrix)"
      ],
      "execution_count": 96,
      "outputs": [
        {
          "output_type": "stream",
          "text": [
            "[[2080.  +0.j          -32. +77.254834j    -32. +32.j\n",
            "   -32. +13.254834j    -32.  +0.j          -32. -13.254834j\n",
            "   -32. -32.j          -32. -77.254834j  ]\n",
            " [-256.+618.03867197j    0.  +0.j            0.  +0.j\n",
            "     0.  +0.j            0.  +0.j            0.  +0.j\n",
            "     0.  +0.j            0.  +0.j        ]\n",
            " [-256.+256.j            0.  +0.j            0.  +0.j\n",
            "     0.  +0.j            0.  +0.j            0.  +0.j\n",
            "     0.  +0.j            0.  +0.j        ]\n",
            " [-256.+106.03867197j    0.  +0.j            0.  +0.j\n",
            "     0.  +0.j            0.  +0.j            0.  +0.j\n",
            "     0.  +0.j            0.  +0.j        ]\n",
            " [-256.  +0.j            0.  +0.j            0.  +0.j\n",
            "     0.  +0.j            0.  +0.j            0.  +0.j\n",
            "     0.  +0.j            0.  +0.j        ]\n",
            " [-256.-106.03867197j    0.  +0.j            0.  +0.j\n",
            "     0.  +0.j            0.  +0.j            0.  +0.j\n",
            "     0.  +0.j            0.  +0.j        ]\n",
            " [-256.-256.j            0.  +0.j            0.  +0.j\n",
            "     0.  +0.j            0.  +0.j            0.  +0.j\n",
            "     0.  +0.j            0.  +0.j        ]\n",
            " [-256.-618.03867197j    0.  +0.j            0.  +0.j\n",
            "     0.  +0.j            0.  +0.j            0.  +0.j\n",
            "     0.  +0.j            0.  +0.j        ]]\n"
          ],
          "name": "stdout"
        }
      ]
    },
    {
      "cell_type": "markdown",
      "metadata": {
        "id": "oddpkQ2_I7TY",
        "colab_type": "text"
      },
      "source": [
        "<p>The FFT2D as the FFT for matrices is often called, can be implemented by making use of the Cooley-Tukey algorithm. Therefore we just need to iterate first of all over the rows of the matrice and after that over the columns of it while performing an FFT for every row- or column-array.</p>"
      ]
    },
    {
      "cell_type": "code",
      "metadata": {
        "id": "ab-9l_scI6vk",
        "colab_type": "code",
        "colab": {}
      },
      "source": [
        "############################################################################################\n",
        "    # Input:\n",
        "    #     A:              Input matrix which will be transformed\n",
        "    #     print_info:     Boolean. If set to True all calculation steps will be printed out\n",
        "    #     out_round_acc:  Integer. Define rounding accuracy\n",
        "    # Output:\n",
        "    #     transformed:    FFT of the input matrix, same dimension as input matrix\n",
        "############################################################################################\n",
        "\n",
        "def fft2d(a, print_info=False, out_round_acc=6, print_ops=False):\n",
        "    rows, cols = a.shape\n",
        "    counter = 0\n",
        "    \n",
        "    # Calculate the number of steps taken to compare it to the wanted running time of O(N * log(N))\n",
        "    # with N = len(a)\n",
        "    number_of_operations = 0\n",
        "\n",
        "    for array in a:\n",
        "        # bitreverse the input array to bring calculations in the for loops into the correct order\n",
        "        rev_array = bitrevorder(array)\n",
        "        n = int(np.log2(len(array)))\n",
        "        \n",
        "        for m  in range(1, n + 1):\n",
        "            if print_info:\n",
        "                print(\"m : \" + str(m))\n",
        "            for j in range(0, 2**(m - 1)):\n",
        "                e = round(np.exp(-2 * np.pi * complex(0, 1) * j / (2**m)), 8)\n",
        "                if print_info:\n",
        "                    print(\"j : \" + str(j))\n",
        "                for r in range(0, (2**n), (2**m)):\n",
        "                    v = rev_array[r + j + 2**(m - 1)] * e\n",
        "\n",
        "                    rev_array[r + j + 2**(m - 1)] = rev_array[r + j] - v\n",
        "                    rev_array[r + j] = rev_array[r + j] + v\n",
        "\n",
        "                    if print_info:\n",
        "                        print(\"r : \" + str(r))\n",
        "                        print(\"Calculation of: beta[\" + str(r + j) + \"]\")\n",
        "                        print(\"Calculation of: beta[\" + str(r + j + 2**(m - 1)) + \"]\")\n",
        "                    \n",
        "                    # adapt the number of calculations  \n",
        "                    number_of_operations += 2\n",
        "\n",
        "        if counter == 0:     \n",
        "            transformed = np.asarray([np.round(i, out_round_acc) for i in rev_array])\n",
        "        else:\n",
        "            transformed = np.append(transformed, np.asarray([np.round(i, out_round_acc) for i in rev_array]), axis=0)\n",
        "        counter += 1\n",
        "    \n",
        "    if print_ops == True:\n",
        "        print(\"\\nN = \" + str(rows * cols) + \" and Number of operations: (N * log_2(N)) = \" + str(number_of_operations * 2) + \"\\n\")\n",
        "    \n",
        "    transformed = np.resize(transformed, (rows, cols))\n",
        "    # print(transformed)\n",
        "    \n",
        "    return transformed"
      ],
      "execution_count": 0,
      "outputs": []
    },
    {
      "cell_type": "code",
      "metadata": {
        "id": "Ufac4UVSIar_",
        "colab_type": "code",
        "outputId": "59663b5e-149c-4b2e-917f-e2b164107bb8",
        "colab": {
          "base_uri": "https://localhost:8080/",
          "height": 340
        }
      },
      "source": [
        "fft2d_matrix = np.transpose(fft2d(np.transpose(fft2d(matrix, print_info=False)), print_info=False, print_ops=True))\n",
        "print(fft2d_matrix)"
      ],
      "execution_count": 98,
      "outputs": [
        {
          "output_type": "stream",
          "text": [
            "\n",
            "N = 64 and Number of operations: (N * log_2(N)) = 384\n",
            "\n",
            "[[2080.  +0.j        -32. +77.254832j  -32. +32.j        -32. +13.254832j\n",
            "   -32.  +0.j        -32. -13.254832j  -32. -32.j        -32. -77.254832j]\n",
            " [-256.+618.038671j    0.  +0.j          0.  +0.j          0.  +0.j\n",
            "     0.  +0.j          0.  +0.j          0.  +0.j          0.  +0.j      ]\n",
            " [-256.+256.j          0.  +0.j          0.  +0.j          0.  +0.j\n",
            "     0.  +0.j          0.  +0.j          0.  +0.j          0.  +0.j      ]\n",
            " [-256.+106.038671j    0.  +0.j          0.  +0.j          0.  +0.j\n",
            "     0.  +0.j          0.  +0.j          0.  +0.j          0.  +0.j      ]\n",
            " [-256.  +0.j          0.  +0.j          0.  +0.j          0.  +0.j\n",
            "     0.  +0.j          0.  +0.j          0.  +0.j          0.  +0.j      ]\n",
            " [-256.-106.038671j    0.  +0.j          0.  +0.j          0.  +0.j\n",
            "     0.  +0.j          0.  +0.j          0.  +0.j          0.  +0.j      ]\n",
            " [-256.-256.j          0.  +0.j          0.  +0.j          0.  +0.j\n",
            "     0.  +0.j          0.  +0.j          0.  +0.j          0.  +0.j      ]\n",
            " [-256.-618.038671j    0.  +0.j          0.  +0.j          0.  +0.j\n",
            "     0.  +0.j          0.  +0.j          0.  +0.j          0.  +0.j      ]]\n"
          ],
          "name": "stdout"
        }
      ]
    },
    {
      "cell_type": "markdown",
      "metadata": {
        "id": "RBUtS7pvLx2w",
        "colab_type": "text"
      },
      "source": [
        "<p>Again compare the results of the numpy result with the self-implemented one.</p>"
      ]
    },
    {
      "cell_type": "code",
      "metadata": {
        "id": "9xIrnj3EKn9q",
        "colab_type": "code",
        "outputId": "c00caa1a-02de-4580-95a0-0e04f13b27b1",
        "colab": {
          "base_uri": "https://localhost:8080/",
          "height": 153
        }
      },
      "source": [
        "print(np.isclose(np_fft2d_matrix, fft2d_matrix, atol=1e-8, rtol=1e-5))"
      ],
      "execution_count": 99,
      "outputs": [
        {
          "output_type": "stream",
          "text": [
            "[[ True  True  True  True  True  True  True  True]\n",
            " [ True  True  True  True  True  True  True  True]\n",
            " [ True  True  True  True  True  True  True  True]\n",
            " [ True  True  True  True  True  True  True  True]\n",
            " [ True  True  True  True  True  True  True  True]\n",
            " [ True  True  True  True  True  True  True  True]\n",
            " [ True  True  True  True  True  True  True  True]\n",
            " [ True  True  True  True  True  True  True  True]]\n"
          ],
          "name": "stdout"
        }
      ]
    },
    {
      "cell_type": "markdown",
      "metadata": {
        "id": "tprQePxCMNSJ",
        "colab_type": "text"
      },
      "source": [
        "<p>Since the comparison only result true values for all elementwise comparison we can conclude that the self-implemented FFT2D is working fine.</p>"
      ]
    },
    {
      "cell_type": "markdown",
      "metadata": {
        "id": "_xMsL1pDNNFx",
        "colab_type": "text"
      },
      "source": [
        "<p>Now the last thing to do is to implement and test the inverse FFT2D, which can be analogously made out of the FFT2D like the iFFT vor the array case.</p>"
      ]
    },
    {
      "cell_type": "code",
      "metadata": {
        "id": "O0drj_j7MIfN",
        "colab_type": "code",
        "colab": {}
      },
      "source": [
        "############################################################################################\n",
        "    # Input:\n",
        "    #     A:              Input matrix which will be transformed\n",
        "    #     print_info:     Boolean. If set to True all calculation steps will be printed out\n",
        "    #     out_round_acc:  Integer. Define rounding accuracy\n",
        "    # Output:\n",
        "    #     transformed:    FFT of the input matrix, same dimension as input matrix\n",
        "############################################################################################\n",
        "\n",
        "def ifft2d(a, print_info=False, out_round_acc=6, first=True, print_ops=False):\n",
        "    rows, cols = a.shape\n",
        "    counter = 0\n",
        "    \n",
        "    # Calculate the number of steps taken to compare it to the wanted running time of O(N * log(N))\n",
        "    # with N = len(a)\n",
        "    number_of_operations = 0\n",
        "\n",
        "    for array in a:\n",
        "        # bitreverse the input array to bring calculations in the for loops into the correct order\n",
        "        rev_array = bitrevorder(array)\n",
        "        n = int(np.log2(len(array)))\n",
        "        \n",
        "        for m  in range(1, n + 1):\n",
        "            if print_info:\n",
        "                print(\"m : \" + str(m))\n",
        "            for j in range(0, 2**(m - 1)):\n",
        "                e = round(np.exp(2 * np.pi * complex(0, 1) * j / (2**m)), 8)\n",
        "                if print_info:\n",
        "                    print(\"j : \" + str(j))\n",
        "                for r in range(0, (2**n), (2**m)):\n",
        "                    v = rev_array[r + j + 2**(m - 1)] * e\n",
        "\n",
        "                    rev_array[r + j + 2**(m - 1)] = rev_array[r + j] - v\n",
        "                    rev_array[r + j] = rev_array[r + j] + v\n",
        "\n",
        "                    if print_info:\n",
        "                        print(\"r : \" + str(r))\n",
        "                        print(\"Calculation of: beta[\" + str(r + j) + \"]\")\n",
        "                        print(\"Calculation of: beta[\" + str(r + j + 2**(m - 1)) + \"]\")\n",
        "                    \n",
        "                    # adapt the number of calculations  \n",
        "                    number_of_operations += 2\n",
        "\n",
        "        if first == True:\n",
        "            if counter == 0:     \n",
        "                transformed = np.round(np.asarray([np.round(i, out_round_acc) for i in rev_array]) / 8, out_round_acc)\n",
        "                if print_info:\n",
        "                    print(transformed)\n",
        "            else:\n",
        "                if print_info:\n",
        "                    print(np.round(np.asarray([np.round(i, out_round_acc) for i in rev_array]) / 8, out_round_acc))\n",
        "                transformed = np.append(transformed, np.round(np.asarray([np.round(i, out_round_acc) for i in rev_array]) / 8, out_round_acc), axis=0)\n",
        "        else:\n",
        "            if counter == 0:     \n",
        "                transformed = np.round(np.asarray([np.round(i.real, out_round_acc) for i in rev_array]) / 8, out_round_acc)\n",
        "                if print_info:\n",
        "                    print(transformed)\n",
        "            else:\n",
        "                if print_info:\n",
        "                    print(np.round(np.asarray([np.round(i.real, out_round_acc) for i in rev_array]) / 8, out_round_acc))\n",
        "                transformed = np.append(transformed, np.round(np.asarray([np.round(i.real, out_round_acc) for i in rev_array]) / 8, out_round_acc), axis=0)\n",
        "        \n",
        "        counter += 1\n",
        "\n",
        "    if print_ops == True:\n",
        "        print(\"\\nN = \" + str(rows * cols) + \" and Number of operations: (N * log_2(N)) = \" + str(number_of_operations * 2) + \"\\n\")\n",
        "    \n",
        "    transformed = np.resize(transformed, (rows, cols))\n",
        "    # print(transformed)\n",
        "    \n",
        "    return transformed"
      ],
      "execution_count": 0,
      "outputs": []
    },
    {
      "cell_type": "code",
      "metadata": {
        "id": "uqEBxSIUNL61",
        "colab_type": "code",
        "outputId": "1dd105db-7ea2-4d56-9f8d-7c7608e5d970",
        "colab": {
          "base_uri": "https://localhost:8080/",
          "height": 204
        }
      },
      "source": [
        "ifft2d_matrix = ifft2d(np.transpose(ifft2d(np.transpose(my_fft2d), print_info=False)), print_info=False, first=False, print_ops=True)\n",
        "print(ifft2d_matrix)"
      ],
      "execution_count": 101,
      "outputs": [
        {
          "output_type": "stream",
          "text": [
            "\n",
            "N = 64 and Number of operations: (N * log_2(N)) = 384\n",
            "\n",
            "[[ 1.  2.  3.  4.  5.  6.  7.  8.]\n",
            " [ 9. 10. 11. 12. 13. 14. 15. 16.]\n",
            " [17. 18. 19. 20. 21. 22. 23. 24.]\n",
            " [25. 26. 27. 28. 29. 30. 31. 32.]\n",
            " [33. 34. 35. 36. 37. 38. 39. 40.]\n",
            " [41. 42. 43. 44. 45. 46. 47. 48.]\n",
            " [49. 50. 51. 52. 53. 54. 55. 56.]\n",
            " [57. 58. 59. 60. 61. 62. 63. 64.]]\n"
          ],
          "name": "stdout"
        }
      ]
    },
    {
      "cell_type": "markdown",
      "metadata": {
        "id": "eEVvkfKKOPcC",
        "colab_type": "text"
      },
      "source": [
        "<p>Well, it looks like the iFFT2D is working as good as hoped.</p>"
      ]
    },
    {
      "cell_type": "markdown",
      "metadata": {
        "id": "rhQ90e7pOZYC",
        "colab_type": "text"
      },
      "source": [
        "### FFT2D test on MNIST digit"
      ]
    },
    {
      "cell_type": "code",
      "metadata": {
        "id": "np-CzGWrN180",
        "colab_type": "code",
        "outputId": "6fbb0535-0d28-475a-b7c2-4bf0b95270aa",
        "colab": {
          "base_uri": "https://localhost:8080/",
          "height": 282
        }
      },
      "source": [
        "# save an image to work with\n",
        "img = X_train[0]\n",
        "print(img.shape)\n",
        "\n",
        "show_img(img)"
      ],
      "execution_count": 102,
      "outputs": [
        {
          "output_type": "stream",
          "text": [
            "(28, 28)\n"
          ],
          "name": "stdout"
        },
        {
          "output_type": "display_data",
          "data": {
            "image/png": "[encoded data removed]",
            "text/plain": [
              "<Figure size 432x288 with 1 Axes>"
            ]
          },
          "metadata": {
            "tags": []
          }
        }
      ]
    },
    {
      "cell_type": "markdown",
      "metadata": {
        "id": "m-5XJpIhSGOR",
        "colab_type": "text"
      },
      "source": [
        "<p>To work with the image in the self-implemented code, we need to pad it so that the width and height of the image are can be expressed through 2^n, with n > 0 an integer.</p>\n",
        "<p>The below written function just provides periodic padding for the case of the image width and height equal to 2^n - 4.</p>"
      ]
    },
    {
      "cell_type": "code",
      "metadata": {
        "id": "tjFSkkRvPu5s",
        "colab_type": "code",
        "colab": {}
      },
      "source": [
        "def periodic_padding(img, pad=2):\n",
        "    img_padded = np.zeros((img.shape[0] + pad * 2, img.shape[1] + pad * 2))\n",
        "    if pad % 2 == 0:\n",
        "        # c = int(pad / 2)\n",
        "        # img_padded[c:-c, c:-c] = img\n",
        "        img_padded[pad:-pad, pad:-pad] = img\n",
        "    else:\n",
        "        return \"pad must be even\"\n",
        "\n",
        "    if img_padded.shape[0] % 8 != 0 or img_padded.shape[1] % 8 != 0:\n",
        "        return \"padded image dimension must be devisble by 8\"\n",
        "\n",
        "    n = img_padded.shape[0]\n",
        "    m = img.shape[0] - 1\n",
        "\n",
        "    #### only pad == 2 case ####\n",
        "\n",
        "    # handling corners\n",
        "    img_padded[0, 0] = img[m - 1, m - 1]\n",
        "    img_padded[0, 1] = img[m - 1, m]\n",
        "    img_padded[1, 0] = img[m, m - 1]\n",
        "    img_padded[1, 1] = img[m, m]\n",
        "\n",
        "    img_padded[0, n - pad] = img[m - 1, 0]\n",
        "    img_padded[0, n - pad + 1] = img[m - 1, 1]\n",
        "    img_padded[1, n - pad] = img[m, 0]\n",
        "    img_padded[1, n - pad + 1] = img[m, 1]\n",
        "\n",
        "    img_padded[n - pad, 0] = img[0, m - 1]\n",
        "    img_padded[n - pad + 1, 0] = img[1, m - 1]\n",
        "    img_padded[n - pad, 1] = img[0, m]\n",
        "    img_padded[n - pad + 1, 1] = img[1, m]\n",
        "\n",
        "    img_padded[n - pad, n - pad] = img[0, 0]\n",
        "    img_padded[n - pad, n - pad + 1] = img[0, 1]\n",
        "    img_padded[n - pad + 1, n - pad] = img[1, 0]\n",
        "    img_padded[n - pad + 1, n - pad + 1] = img[1, 1]\n",
        "\n",
        "    for i in range(pad, n - pad):\n",
        "        img_padded[i, 0] = img_padded[i, n - 2*pad]\n",
        "        img_padded[i, 1] = img_padded[i, n - 2*pad + 1]\n",
        "        img_padded[0, i] = img_padded[n - 2*pad, i]\n",
        "        img_padded[1, i] = img_padded[n - 2*pad + 1, i]\n",
        "        img_padded[i, n - pad] = img_padded[i, pad + 1]\n",
        "        img_padded[i, n - pad + 1] = img_padded[i, pad + 0]\n",
        "        img_padded[n - pad, i] = img_padded[pad + 0, i]\n",
        "        img_padded[n - pad + 1, i] = img_padded[pad + 1, i]\n",
        "\n",
        "    return img_padded"
      ],
      "execution_count": 0,
      "outputs": []
    },
    {
      "cell_type": "code",
      "metadata": {
        "id": "zvEixH8JOvyA",
        "colab_type": "code",
        "outputId": "c361e227-31a2-45b4-9861-90799d4ce6c5",
        "colab": {
          "base_uri": "https://localhost:8080/",
          "height": 549
        }
      },
      "source": [
        "import time\n",
        "\n",
        "padded_img = periodic_padding(img)\n",
        "# show_img(padded_img, size=32)\n",
        "\n",
        "# in numpy it would not be necessary to input the padded version because it could\n",
        "# handle all kinds of shape\n",
        "# but to compare it better we will give it the padded image\n",
        "start_time = time.time()\n",
        "np_fft2d_img = np.fft.fft2(padded_img)\n",
        "end_time = time.time()\n",
        "print(\"The Numpy FFT2D took \" + str(end_time - start_time) + \" ms.\")\n",
        "show_img(np.real(np_fft2d_img), size=32)\n",
        "\n",
        "# do not forget to run the fft2d twice in the self-implemented version\n",
        "start_time = time.time()\n",
        "fft2d_img = np.transpose(fft2d(np.transpose(fft2d(padded_img))))\n",
        "end_time = time.time()\n",
        "print(\"The self-implemented FFT2D took \" + str(end_time - start_time) + \" ms.\")\n",
        "show_img(np.real(fft2d_img), size=32)"
      ],
      "execution_count": 108,
      "outputs": [
        {
          "output_type": "stream",
          "text": [
            "The Numpy FFT2D took 0.0003161430358886719 ms.\n"
          ],
          "name": "stdout"
        },
        {
          "output_type": "display_data",
          "data": {
            "image/png": "[encoded data removed]",
            "text/plain": [
              "<Figure size 432x288 with 1 Axes>"
            ]
          },
          "metadata": {
            "tags": []
          }
        },
        {
          "output_type": "stream",
          "text": [
            "The self-implemented FFT2D took 0.07830262184143066 ms.\n"
          ],
          "name": "stdout"
        },
        {
          "output_type": "display_data",
          "data": {
            "image/png": "[encoded data removed]",
            "text/plain": [
              "<Figure size 432x288 with 1 Axes>"
            ]
          },
          "metadata": {
            "tags": []
          }
        }
      ]
    },
    {
      "cell_type": "markdown",
      "metadata": {
        "id": "rMu9x7mJVbvW",
        "colab_type": "text"
      },
      "source": [
        "## Conclusion\n",
        "\n",
        "<p>Even though the self-implemented Fourier Transform using the Cooley-Tukey algorithm is working well, we can still see that it is not even close to be optimized well for fast calculations, which is especially caused by the slow speed of the Python environment and the algorithm itself. Nowadays exist even faster algorithms than the most basic one by Cooley-Tukey.</p>"
      ]
    }
  ]
}